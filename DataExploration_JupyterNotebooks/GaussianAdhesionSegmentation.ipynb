{
 "cells": [
  {
   "cell_type": "code",
   "execution_count": 1,
   "outputs": [],
   "source": [
    "\n",
    "import sys\n",
    "import time\n",
    "import os\n",
    "import math\n",
    "import cv2\n",
    "import matplotlib\n",
    "import numpy as np\n",
    "import matplotlib\n",
    "import matplotlib.pyplot as plt\n",
    "from ToTimeSeries import ToTimeSeries as ts_main\n"
   ],
   "metadata": {
    "collapsed": false,
    "pycharm": {
     "name": "#%%\n",
     "is_executing": false
    }
   }
  },
  {
   "cell_type": "code",
   "execution_count": 2,
   "outputs": [],
   "source": [
    "def find_patch_distribution(data):\n",
    "    dist = np.zeros((len(INTENSITY_LEVELS),))\n",
    "    for intensity in INTENSITY_LEVELS:\n",
    "        mask = np.where((data[:,:] == intensity))\n",
    "        dist[intensity] = len(data[mask[0], mask[1]])\n",
    "    return dist\n",
    "def turn_patch_gaussian(data):\n",
    "    patch_dist = find_patch_distribution(data)\n",
    "    patch_dist_positives = patch_dist[patch_dist>0]\n",
    "    sigma = np.std(patch_dist_positives)\n",
    "    mean = np.mean(patch_dist_positives) \n",
    "    gaussian_dist = np.empty_like(patch_dist_positives)\n",
    "    if sigma == 0:\n",
    "        gaussian_dist.fill(1)\n",
    "        width = 0\n",
    "        center = [len(gaussian_dist)/2]\n",
    "    else:\n",
    "        for k,n in enumerate(patch_dist_positives):\n",
    "            g_num = ( math.e**(-((n - mean)**2)/(2 * sigma**2))/(math.sqrt(2*math.pi*(sigma**2)))) \n",
    "            gaussian_dist[k] = g_num\n",
    "        width = np.max(gaussian_dist) - np.min(gaussian_dist)\n",
    "        center = np.where(np.max(gaussian_dist)==gaussian_dist)[0]\n",
    "    return width, center , gaussian_dist, sigma, mean\n",
    "\n",
    "def turn_frame_gaussian(frame: np.ndarray, kernel: tuple):\n",
    "    width_img, average_img = np.empty_like(frame[:,:,1], dtype=float), np.empty_like(frame[:,:,1])\n",
    "    x_start = 0\n",
    "    y_start = 0\n",
    "    x_max = len(frame)\n",
    "    y_max = len(frame[0])\n",
    "    while y_max > y_start:\n",
    "        while x_max > x_start:\n",
    "            patch = frame[x_start: x_start+kernel[0], y_start: y_start+kernel[0]]\n",
    "            if (y_start+kernel[1] >= y_max) or (x_start+kernel[0] >= x_max):\n",
    "                pass\n",
    "            start_time = time.time()\n",
    "            width, center, gaussian_dist, sigma, mean = turn_patch_gaussian(patch[:,:, 0])\n",
    "            width_img[x_start: x_start+kernel[1], y_start: y_start+kernel[0]] = width\n",
    "            average_img[x_start: x_start+kernel[1], y_start: y_start+kernel[0]] = center[0]\n",
    "            x_start+=kernel[0]\n",
    "        x_start = 0\n",
    "        y_start+= kernel[1]\n",
    "    y_start=0\n",
    "    return width_img, average_img\n",
    "    \n",
    "    \n",
    "def manipulate_frame(frame, width_first_img):\n",
    "    \n",
    "    # width_first_img, average_img = turn_frame_gaussian(first_frame,(4,4))\n",
    "    width_frame_img, average_frame_img = turn_frame_gaussian(frame, (4,4))\n",
    "    background_mask = np.where(width_frame_img <= np.max(width_first_img)/3)\n",
    "    platelet_mask = np.where(width_frame_img > np.max(width_first_img)/3)\n",
    "    trinary_mask = np.where(frame[:,:,0] <= 120)\n",
    "    quadric_mask = np.where(frame[:,:,0] <= 70)\n",
    "    pantagonic_mask = np.where(frame[:,:,0] <= 40)\n",
    "    frame[background_mask] = [255,255,255]\n",
    "    frame[platelet_mask] = [0,0,0]\n",
    "    frame[trinary_mask] = [255/2,255/2,255/2]\n",
    "    frame[quadric_mask] = [255/3,255/3,255/3]\n",
    "    frame[quadric_mask] = [255/4,255/4,255/4]\n",
    "    # cv2.imwrite('test.png',last_frame)\n",
    "    return frame\n",
    "# cv2.imshow('test', last_frame)\n",
    "# \n",
    "# cv2.waitKey(0) # waits until a key is pressed\n",
    "# cv2.destroyAllWindows()\n",
    "# exit()# destroys the window showing image"
   ],
   "metadata": {
    "collapsed": false,
    "pycharm": {
     "name": "#%%\n",
     "is_executing": false
    }
   }
  },
  {
   "cell_type": "code",
   "execution_count": null,
   "outputs": [],
   "source": [
    "INTENSITY_LEVELS = np.arange(0,256,1)\n",
    "file_name = 't1.avi'\n",
    "cap = cv2.VideoCapture('../ForVideoAnalyze/{0}'.format(file_name))\n",
    "final_frame_count = int(cap.get(cv2.CAP_PROP_FRAME_COUNT))\n",
    "frame_width = int(cap.get(cv2.CAP_PROP_FRAME_WIDTH))\n",
    "frame_height = int(cap.get(cv2.CAP_PROP_FRAME_HEIGHT))\n",
    "fps = cap.get(cv2.CAP_PROP_FPS)\n",
    "\n",
    "out = cv2.VideoWriter('../ForVideoAnalyze/results/IRM_Reasearch/{0}_manipulated.avi'.format(file_name),cv2.VideoWriter_fourcc('M','J','P','G'), fps, (frame_width, frame_height))\n",
    "frame = None\n",
    "first =True\n",
    "ret = True\n",
    "first_frame= None\n",
    "width_img = None\n",
    "temp = None\n",
    "frame_ctr = 0\n",
    "kernel = (4,4)\n",
    "print(\"starting file:{0}, total frames:{1}\".format(file_name, final_frame_count))\n",
    "while ret:\n",
    "    begin_timer = time.time()\n",
    "    if first:\n",
    "        ret, first_frame = cap.read()\n",
    "        width_img, average_img = turn_frame_gaussian(first_frame, kernel)\n",
    "        first_frame = manipulate_frame(first_frame, width_img)\n",
    "        first = False\n",
    "        out.write(first_frame)\n",
    "        del first_frame\n",
    "    else:\n",
    "        frame = temp\n",
    "        ret, temp =cap.read()\n",
    "        if ret:\n",
    "            frame = manipulate_frame(temp, width_img)\n",
    "            out.write(frame)\n",
    "    del frame\n",
    "    print(\"finished frame number: {0} calc time ={1:.2f}\".format(frame_ctr, time.time() - begin_timer))\n",
    "    frame_ctr+=1\n",
    "cap.release()\n",
    "out.release()"
   ],
   "metadata": {
    "collapsed": false,
    "pycharm": {
     "name": "#%%\n"
    }
   }
  },
  {
   "cell_type": "code",
   "execution_count": null,
   "outputs": [],
   "source": [],
   "metadata": {
    "collapsed": false,
    "pycharm": {
     "name": "#%%",
     "is_executing": false
    }
   }
  }
 ],
 "metadata": {
  "kernelspec": {
   "display_name": "Python 3",
   "language": "python",
   "name": "python3"
  },
  "language_info": {
   "codemirror_mode": {
    "name": "ipython",
    "version": 2
   },
   "file_extension": ".py",
   "mimetype": "text/x-python",
   "name": "python",
   "nbconvert_exporter": "python",
   "pygments_lexer": "ipython2",
   "version": "2.7.6"
  },
  "pycharm": {
   "stem_cell": {
    "cell_type": "raw",
    "source": [],
    "metadata": {
     "collapsed": false
    }
   }
  }
 },
 "nbformat": 4,
 "nbformat_minor": 0
}