{
 "cells": [
  {
   "cell_type": "code",
   "execution_count": 13,
   "metadata": {
    "collapsed": true,
    "pycharm": {
     "is_executing": false
    }
   },
   "outputs": [
    {
     "name": "stdout",
     "text": [
      "done\n"
     ],
     "output_type": "stream"
    }
   ],
   "source": [
    "# IMPORTS\n",
    "import numpy as np\n",
    "import time\n",
    "import matplotlib.pyplot as plt\n",
    "from ToTimeSeries import ToTimeSeries\n",
    "from SimpleVisualizationTool import simpleVisualization as sv\n",
    "from InputReader import Simple_Input_Reader as sim\n",
    "from rgb_color_manipulator import ChannelManipulator as cm\n",
    "\n",
    "print(\"done\")"
   ]
  },
  {
   "cell_type": "code",
   "execution_count": 14,
   "outputs": [
    {
     "name": "stdout",
     "text": [
      "file reading took 25.49 seconds\n"
     ],
     "output_type": "stream"
    }
   ],
   "source": [
    "start = time.time()\n",
    "file_name=\"exp89_PLT_coll4_TAXOL01_R3D\"\n",
    "file_title = \"AverageGrayLvlPerFrame___\"+file_name\n",
    "# FILE READING\n",
    "sim = sim()\n",
    "file, frame_count, frame_width, frame_height = sim.input_to_np(input_location=file_name+'.avi', grouped_frames=1, cut_file=0)\n",
    "\n",
    "end = time.time()\n",
    "print(\"file reading took {0:.2f} seconds\".format(end - start))"
   ],
   "metadata": {
    "collapsed": false,
    "pycharm": {
     "name": "#%%\n",
     "is_executing": false
    }
   }
  },
  {
   "cell_type": "code",
   "execution_count": 15,
   "outputs": [
    {
     "name": "stdout",
     "text": [
      "done\n"
     ],
     "output_type": "stream"
    }
   ],
   "source": [
    "# average per frame array\n",
    "avg_per_frame = np.zeros((frame_count,1))\n",
    "print(\"done\")"
   ],
   "metadata": {
    "collapsed": false,
    "pycharm": {
     "name": "#%%\n",
     "is_executing": false
    }
   }
  },
  {
   "cell_type": "code",
   "execution_count": 16,
   "outputs": [
    {
     "name": "stdout",
     "text": [
      "gray value avg took 10.84\n"
     ],
     "output_type": "stream"
    }
   ],
   "source": [
    "start = time.time()\n",
    "\n",
    "\n",
    "frame_ctr=0\n",
    "while frame_ctr < frame_count:\n",
    "    avg_per_frame[frame_ctr] = np.average(file[frame_ctr])\n",
    "    frame_ctr+=1\n",
    "\n",
    "end = time.time()\n",
    "print(\"gray value avg took {0:.2f}\".format(end - start))"
   ],
   "metadata": {
    "collapsed": false,
    "pycharm": {
     "name": "#%%\n",
     "is_executing": false
    }
   }
  },
  {
   "cell_type": "code",
   "execution_count": 17,
   "outputs": [
    {
     "data": {
      "text/plain": "<Figure size 432x288 with 1 Axes>",
      "image/png": "[encoded data removed]"
     },
     "metadata": {
      "needs_background": "light"
     },
     "output_type": "display_data"
    }
   ],
   "source": [
    "time = np.arange(0,frame_count)\n",
    "data = avg_per_frame\n",
    "\n",
    "fig, ax = plt.subplots()\n",
    "plt.title(file_title)\n",
    "ax.plot(time,data)\n",
    "\n",
    "ax.set(xlabel=\"frame number\", ylabel=\"average gray value\")\n",
    "# fig.savefig(file_title+\".png\")\n",
    "plt.show()"
   ],
   "metadata": {
    "collapsed": false,
    "pycharm": {
     "name": "#%%\n",
     "is_executing": false
    }
   }
  },
  {
   "cell_type": "code",
   "execution_count": 19,
   "outputs": [],
   "source": [
    "fig.savefig(file_title+\".png\")\n",
    "\n",
    "# todo: exp89_PLT_coll4_TAXOL01_R3D.avi "
   ],
   "metadata": {
    "collapsed": false,
    "pycharm": {
     "name": "#%%\n",
     "is_executing": false
    }
   }
  }
 ],
 "metadata": {
  "language_info": {
   "codemirror_mode": {
    "name": "ipython",
    "version": 2
   },
   "file_extension": ".py",
   "mimetype": "text/x-python",
   "name": "python",
   "nbconvert_exporter": "python",
   "pygments_lexer": "ipython2",
   "version": "2.7.6"
  },
  "kernelspec": {
   "name": "python3",
   "language": "python",
   "display_name": "Python 3"
  },
  "pycharm": {
   "stem_cell": {
    "cell_type": "raw",
    "source": [],
    "metadata": {
     "collapsed": false
    }
   }
  }
 },
 "nbformat": 4,
 "nbformat_minor": 0
}