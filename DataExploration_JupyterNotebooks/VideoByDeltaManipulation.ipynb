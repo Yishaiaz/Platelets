{
 "cells": [
  {
   "cell_type": "code",
   "execution_count": 50,
   "outputs": [],
   "source": [
    "# IMPORTS\n",
    "import os\n",
    "import numpy as np\n",
    "import time as time\n",
    "import cv2\n"
   ],
   "metadata": {
    "collapsed": false,
    "pycharm": {
     "name": "#%%\n",
     "is_executing": false
    }
   }
  },
  {
   "cell_type": "code",
   "execution_count": 51,
   "outputs": [],
   "source": [
    "#DONE: # \"PLT_coll4_exp.63_control\" # \"exp89_PRP_FBG_CONTROL01_R3D\" #\n",
    "file_name =   \"/Users/yishaiazabary/PycharmProjects/platelets/t1\"    # \"PLT_col4_full\"  #\"exp89_PRP_FBG_TAXOL01_R3D\"  #   \n",
    "\n",
    "interval_of_interest = [64,128]\n",
    "second_interval_of_interest = [64,128]\n",
    "delta_of_interest = [-18,0]\n",
    "second_delta_of_interest = [0.01,18]\n",
    "RED = [0, 0, 255]\n",
    "BLUE = [255, 0, 0]\n",
    "\n",
    "\n"
   ],
   "metadata": {
    "collapsed": false,
    "pycharm": {
     "name": "#%%\n",
     "is_executing": false
    }
   }
  },
  {
   "cell_type": "code",
   "execution_count": 52,
   "outputs": [],
   "source": [
    "def manipulate_frame(buf):\n",
    "    # todo: try creating the mask from buf[0,:,:,1] so there is only one comparison and not 3, \n",
    "    # FIRST INTEREST (ATTACH)\n",
    "    interval_mask_first_frame = np.where((buf[0,:,:, :1] >= interval_of_interest[0]) & (buf[0,:,:, :1]<interval_of_interest[1]))\n",
    "    first_frame_vals = buf[0][interval_mask_first_frame[0], interval_mask_first_frame[1], interval_mask_first_frame[2]]\n",
    "    next_frame_vals = buf[1][interval_mask_first_frame[0], interval_mask_first_frame[1], interval_mask_first_frame[2]]\n",
    "    # FIRST INTEREST (DETACH)\n",
    "    second_interval_mask_first_frame = np.where((buf[0] >= second_interval_of_interest[0]) & (buf[0]<second_interval_of_interest[1]))\n",
    "    second_interest_first_frame_vals = buf[0][second_interval_mask_first_frame[0], second_interval_mask_first_frame[1], second_interval_mask_first_frame[2]]\n",
    "    second_interest_next_frame_vals = buf[1][second_interval_mask_first_frame[0], second_interval_mask_first_frame[1], second_interval_mask_first_frame[2]]\n",
    "    for k in range(len(interval_mask_first_frame[0])):\n",
    "        delta_between_frames =  next_frame_vals[k] - first_frame_vals[k]  \n",
    "        if delta_of_interest[0] <= delta_between_frames < delta_of_interest[1]:\n",
    "            x, y, z = interval_mask_first_frame[0][k], interval_mask_first_frame[1][k], interval_mask_first_frame[2][k]\n",
    "            buf[0][x][y] = np.array(RED, np.dtype('int64'))\n",
    "    for j in range(len(second_interval_mask_first_frame[0])):\n",
    "        delta_between_frames =  second_interest_next_frame_vals[j] - second_interest_first_frame_vals[j]  \n",
    "        if second_delta_of_interest[0] <= delta_between_frames < second_delta_of_interest[1]:\n",
    "            x, y, z = second_interval_mask_first_frame[0][j], second_interval_mask_first_frame[1][j], second_interval_mask_first_frame[2][j]\n",
    "            buf[0][x][y] = np.array(BLUE, np.dtype('int64'))\n",
    "    return buf   \n",
    "                "
   ],
   "metadata": {
    "collapsed": false,
    "pycharm": {
     "name": "#%%\n",
     "is_executing": false
    }
   }
  },
  {
   "cell_type": "code",
   "execution_count": 53,
   "outputs": [
    {
     "name": "stdout",
     "text": [
      "frame No:0 has been manipulated.took:0.016 seconds\nframe No:1 has been manipulated.took:0.016 seconds\nframe No:2 has been manipulated.took:0.0099 seconds\nframe No:3 has been manipulated.took:0.0096 seconds\nframe No:4 has been manipulated.took:0.0072 seconds\nframe No:5 has been manipulated.took:0.01 seconds\nframe No:6 has been manipulated.took:0.011 seconds\nframe No:7 has been manipulated.took:0.0067 seconds\nframe No:8 has been manipulated.took:0.0096 seconds\nframe No:9 has been manipulated.took:0.012 seconds\nframe No:10 has been manipulated.took:0.0092 seconds\nframe No:11 has been manipulated.took:0.0054 seconds\nframe No:12 has been manipulated.took:0.0088 seconds\nframe No:13 has been manipulated.took:0.0065 seconds\nframe No:14 has been manipulated.took:0.0069 seconds\nframe No:15 has been manipulated.took:0.0074 seconds\nframe No:16 has been manipulated.took:0.0066 seconds\nframe No:17 has been manipulated.took:0.0053 seconds\nframe No:18 has been manipulated.took:0.0078 seconds\nframe No:19 has been manipulated.took:0.0042 seconds\nframe No:20 has been manipulated.took:0.0077 seconds\n",
      "frame No:21 has been manipulated.took:0.03 seconds\nframe No:22 has been manipulated.took:0.0085 seconds\nframe No:23 has been manipulated.took:0.012 seconds\nframe No:24 has been manipulated.took:0.02 seconds\nframe No:25 has been manipulated.took:0.013 seconds\nframe No:26 has been manipulated.took:0.014 seconds\nframe No:27 has been manipulated.took:0.012 seconds\nframe No:28 has been manipulated.took:0.029 seconds\nframe No:29 has been manipulated.took:0.026 seconds\nframe No:30 has been manipulated.took:0.029 seconds\nframe No:31 has been manipulated.took:0.027 seconds\n",
      "frame No:32 has been manipulated.took:0.043 seconds\nframe No:33 has been manipulated.took:0.036 seconds\nframe No:34 has been manipulated.took:0.066 seconds\nframe No:35 has been manipulated.took:0.046 seconds\n",
      "frame No:36 has been manipulated.took:0.08 seconds\nframe No:37 has been manipulated.took:0.058 seconds\nframe No:38 has been manipulated.took:0.054 seconds\nframe No:39 has been manipulated.took:0.06 seconds\n",
      "frame No:40 has been manipulated.took:0.079 seconds\nframe No:41 has been manipulated.took:0.2 seconds\n",
      "frame No:42 has been manipulated.took:0.09 seconds\nframe No:43 has been manipulated.took:0.069 seconds\nframe No:44 has been manipulated.took:0.1 seconds\n",
      "frame No:45 has been manipulated.took:0.097 seconds\n",
      "frame No:46 has been manipulated.took:0.33 seconds\n",
      "frame No:47 has been manipulated.took:0.25 seconds\n",
      "frame No:48 has been manipulated.took:0.24 seconds\n",
      "frame No:49 has been manipulated.took:0.24 seconds\n",
      "frame No:50 has been manipulated.took:0.32 seconds\n",
      "frame No:51 has been manipulated.took:0.21 seconds\nframe No:52 has been manipulated.took:0.18 seconds\n",
      "frame No:53 has been manipulated.took:0.54 seconds\nframe No:54 has been manipulated.took:0.13 seconds\n",
      "frame No:55 has been manipulated.took:0.19 seconds\n",
      "frame No:56 has been manipulated.took:0.34 seconds\nframe No:57 has been manipulated.took:0.14 seconds\n",
      "frame No:58 has been manipulated.took:0.44 seconds\nframe No:59 has been manipulated.took:0.17 seconds\n",
      "frame No:60 has been manipulated.took:0.19 seconds\nframe No:61 has been manipulated.took:0.14 seconds\n",
      "frame No:62 has been manipulated.took:0.52 seconds\nframe No:63 has been manipulated.took:0.17 seconds\n",
      "frame No:64 has been manipulated.took:0.17 seconds\nframe No:65 has been manipulated.took:0.14 seconds\n",
      "frame No:66 has been manipulated.took:0.17 seconds\nframe No:67 has been manipulated.took:0.098 seconds\nframe No:68 has been manipulated.took:0.095 seconds\n",
      "frame No:69 has been manipulated.took:0.22 seconds\nframe No:70 has been manipulated.took:0.12 seconds\n",
      "frame No:71 has been manipulated.took:0.12 seconds\nframe No:72 has been manipulated.took:0.12 seconds\n",
      "frame No:73 has been manipulated.took:0.18 seconds\n",
      "frame No:74 has been manipulated.took:0.23 seconds\nframe No:75 has been manipulated.took:0.13 seconds\n",
      "frame No:76 has been manipulated.took:0.15 seconds\n",
      "frame No:77 has been manipulated.took:0.5 seconds\n",
      "frame No:78 has been manipulated.took:0.36 seconds\n",
      "frame No:79 has been manipulated.took:0.44 seconds\n",
      "frame No:80 has been manipulated.took:0.36 seconds\n",
      "frame No:81 has been manipulated.took:0.39 seconds\nframe No:82 has been manipulated.took:0.14 seconds\n",
      "frame No:83 has been manipulated.took:0.19 seconds\nframe No:84 has been manipulated.took:0.13 seconds\n",
      "frame No:85 has been manipulated.took:0.19 seconds\nframe No:86 has been manipulated.took:0.17 seconds\n",
      "frame No:87 has been manipulated.took:0.21 seconds\nframe No:88 has been manipulated.took:0.11 seconds\n",
      "frame No:89 has been manipulated.took:0.22 seconds\n",
      "frame No:90 has been manipulated.took:0.35 seconds\n",
      "frame No:91 has been manipulated.took:0.34 seconds\n",
      "frame No:92 has been manipulated.took:0.22 seconds\n",
      "frame No:93 has been manipulated.took:0.4 seconds\n",
      "frame No:94 has been manipulated.took:0.36 seconds\nframe No:95 has been manipulated.took:0.11 seconds\n",
      "frame No:96 has been manipulated.took:0.16 seconds\nframe No:97 has been manipulated.took:0.11 seconds\n",
      "frame No:98 has been manipulated.took:0.12 seconds\n",
      "frame No:99 has been manipulated.took:0.37 seconds\nframe No:100 has been manipulated.took:0.13 seconds\n",
      "frame No:101 has been manipulated.took:0.15 seconds\nframe No:102 has been manipulated.took:0.1 seconds\n",
      "frame No:103 has been manipulated.took:0.11 seconds\n",
      "frame No:104 has been manipulated.took:0.24 seconds\n",
      "frame No:105 has been manipulated.took:0.23 seconds\n",
      "frame No:106 has been manipulated.took:0.24 seconds\nframe No:107 has been manipulated.took:0.14 seconds\n",
      "frame No:108 has been manipulated.took:0.49 seconds\nframe No:109 has been manipulated.took:0.14 seconds\n",
      "frame No:110 has been manipulated.took:0.23 seconds\n",
      "frame No:111 has been manipulated.took:0.69 seconds\n",
      "frame No:112 has been manipulated.took:0.29 seconds\nframe No:113 has been manipulated.took:0.16 seconds\n",
      "frame No:114 has been manipulated.took:0.17 seconds\n",
      "frame No:115 has been manipulated.took:0.28 seconds\nframe No:116 has been manipulated.took:0.13 seconds\n",
      "frame No:117 has been manipulated.took:0.28 seconds\nframe No:118 has been manipulated.took:0.19 seconds\n",
      "frame No:119 has been manipulated.took:0.15 seconds\n121: 0.32 minutes total\n"
     ],
     "output_type": "stream"
    },
    {
     "data": {
      "text/plain": "0"
     },
     "metadata": {},
     "output_type": "execute_result",
     "execution_count": 53
    }
   ],
   "source": [
    "total_start = time.time()\n",
    "frames_in_memory = 2\n",
    "\n",
    "cap = cv2.VideoCapture(file_name + \".avi\")\n",
    "\n",
    "final_frame_count = int(cap.get(cv2.CAP_PROP_FRAME_COUNT))\n",
    "frame_width = int(cap.get(cv2.CAP_PROP_FRAME_WIDTH))\n",
    "frame_height = int(cap.get(cv2.CAP_PROP_FRAME_HEIGHT))\n",
    "fps = cap.get(cv2.CAP_PROP_FPS)\n",
    "\n",
    "out = cv2.VideoWriter(file_name+'_manipulated.avi',cv2.VideoWriter_fourcc('M','J','P','G'), fps, (frame_width, frame_height))\n",
    "\n",
    "# new_video = np.zeros((final_frame_count, frame_height, frame_width, 3), np.dtype('int64'))\n",
    "buf = np.zeros((frames_in_memory, frame_height, frame_width, 3), np.dtype('int64'))\n",
    "ret = True\n",
    "\n",
    "fc = 0\n",
    "while fc < final_frame_count and ret:\n",
    "    # loading the data according\n",
    "    in_memory_frames_ctr = 0\n",
    "    single_frame_start_time = time.time()\n",
    "    while in_memory_frames_ctr < frames_in_memory:\n",
    "        if np.sum(buf[frames_in_memory - 1]) > 0:\n",
    "            temp = buf[frames_in_memory - 1].copy()\n",
    "            # buf[FRAMES_IN_MEMORY-1] = np.zeros((frame_height, frame_width, 3))\n",
    "            buf = np.zeros((frames_in_memory, frame_height, frame_width, 3), np.dtype('int64'))\n",
    "            buf[0] = temp\n",
    "        else:\n",
    "            ret, frame = cap.read()\n",
    "            buf[in_memory_frames_ctr] = frame\n",
    "            fc += 1\n",
    "        in_memory_frames_ctr += 1\n",
    "    buf = manipulate_frame(buf)\n",
    "    im = np.uint8(buf[0])\n",
    "    out.write(im)\n",
    "    # new_video[fc-2] = buf[0]\n",
    "    single_frame_end_time = time.time()\n",
    "    print(\"frame No:{0} has been manipulated.took:{1:.2} seconds\".format(fc-2, single_frame_end_time - single_frame_start_time))\n",
    "\n",
    "out.release()\n",
    "cap.release()\n",
    "total_end = time.time()\n",
    "print(\"{0}: {1:.2f} minutes total\".format(fc, (total_end - total_start) / 60))\n",
    "os.system('afplay alarm.m4a')"
   ],
   "metadata": {
    "collapsed": false,
    "pycharm": {
     "name": "#%%\n",
     "is_executing": false
    }
   }
  },
  {
   "cell_type": "code",
   "execution_count": 54,
   "outputs": [
    {
     "name": "stdout",
     "text": [
      "done\n"
     ],
     "output_type": "stream"
    }
   ],
   "source": [
    "print('done')"
   ],
   "metadata": {
    "collapsed": false,
    "pycharm": {
     "name": "#%%\n",
     "is_executing": false
    }
   }
  }
 ],
 "metadata": {
  "language_info": {
   "codemirror_mode": {
    "name": "ipython",
    "version": 2
   },
   "file_extension": ".py",
   "mimetype": "text/x-python",
   "name": "python",
   "nbconvert_exporter": "python",
   "pygments_lexer": "ipython2",
   "version": "2.7.6"
  },
  "kernelspec": {
   "name": "python3",
   "language": "python",
   "display_name": "Python 3"
  },
  "pycharm": {
   "stem_cell": {
    "cell_type": "raw",
    "source": [],
    "metadata": {
     "collapsed": false
    }
   }
  }
 },
 "nbformat": 4,
 "nbformat_minor": 0
}