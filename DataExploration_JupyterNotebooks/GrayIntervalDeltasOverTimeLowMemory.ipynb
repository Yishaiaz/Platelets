{
 "cells": [
  {
   "cell_type": "code",
   "execution_count": 1,
   "metadata": {
    "collapsed": true,
    "pycharm": {
     "is_executing": false
    }
   },
   "outputs": [],
   "source": [
    "\n",
    "import sys\n",
    "import time\n",
    "import os\n",
    "import math\n",
    "import cv2\n",
    "import matplotlib\n",
    "import numpy as np\n",
    "import matplotlib\n",
    "import matplotlib.pyplot as plt\n",
    "from ToTimeSeries import ToTimeSeries as ts_main\n",
    "\n"
   ]
  },
  {
   "cell_type": "code",
   "execution_count": 2,
   "outputs": [
    {
     "name": "stdout",
     "text": [
      "done\n"
     ],
     "output_type": "stream"
    }
   ],
   "source": [
    "def _in_which_interval(val, intervals):\n",
    "    # idx = np.where((intervals <= val))[0][len(idx[0])-1]\n",
    "    idx = np.where((intervals <= val))\n",
    "    idx = idx[0][len(idx[0])-1]\n",
    "    return idx     \n",
    "\n",
    "def _which_delta(val, deltas):\n",
    "    # idx = (np.abs(deltas - val)).argmin()\n",
    "    idx = (np.abs(deltas - val)).argmin()\n",
    "    return idx\n",
    "\n",
    "print(\"done\")\n"
   ],
   "metadata": {
    "collapsed": false,
    "pycharm": {
     "name": "#%%\n",
     "is_executing": false
    }
   }
  },
  {
   "cell_type": "code",
   "execution_count": 3,
   "outputs": [],
   "source": [
    "#DONE:   \"PLT_coll4_exp.63_control\", \"exp89_PRP_FBG_CONTROL01_R3D\" , \n",
    "\n",
    "file_name =  \"t1\"  #  \"PLT_col4_full\"  #    \"exp89_PRP_FBG_TAXOL01_R3D\"  # \n",
    "file_title = \"DeltaDistributionPerInterval_____\" + file_name\n",
    "INTERVALS_LOWER_BOUND = 0\n",
    "INTERVALS_UPPER_BOUND = 257\n",
    "INTERVALS_SKIP_VALUE = 8\n",
    "CUT_FILE = 0\n",
    "FRAMES_IN_MEMORY = 2\n",
    "BIN_SIZE = 4\n",
    "DELTA_MAX_VALUE = 30\n",
    "DELTA_MIN_VALUE = -30\n",
    "DELTA_BINS_NUM = 61\n",
    "# LAST DIMENSION MUST DIVIDE 256 WITHOUT A REMAINDER. (THE POWER OF 2)\n",
    "INTERVALS = np.arange(INTERVALS_LOWER_BOUND, INTERVALS_UPPER_BOUND, INTERVALS_SKIP_VALUE)\n",
    "DELTAS = np.linspace(DELTA_MIN_VALUE, DELTA_MAX_VALUE, num=DELTA_BINS_NUM)\n",
    "\n",
    "delta_distribution_per_interval = np.zeros((len(INTERVALS), len(DELTAS)))\n",
    "previous_bin_frame_averages = None"
   ],
   "metadata": {
    "collapsed": false,
    "pycharm": {
     "name": "#%%\n",
     "is_executing": false
    }
   }
  },
  {
   "cell_type": "code",
   "execution_count": 4,
   "outputs": [
    {
     "name": "stdout",
     "text": [
      "done\n"
     ],
     "output_type": "stream"
    }
   ],
   "source": [
    "# PLOTTING PARAMETERS\n",
    "MAX_COLOR = 0.1\n",
    "LABEL_FONT_SIZE = 15\n",
    "LABEL_OUT_OF_AXIS_PARAM = 15\n",
    "FONT_SIZE = 50\n",
    "EVERY_X_LABEL_TO_PRINT = 8\n",
    "EVERY_Y_LABEL_TO_PRINT = 4\n",
    "print(\"done\")"
   ],
   "metadata": {
    "collapsed": false,
    "pycharm": {
     "name": "#%%\n",
     "is_executing": false
    }
   }
  },
  {
   "cell_type": "code",
   "execution_count": 5,
   "outputs": [
    {
     "name": "stdout",
     "text": [
      "done\n"
     ],
     "output_type": "stream"
    }
   ],
   "source": [
    "cap = cv2.VideoCapture(file_name+\".avi\")\n",
    "final_frame_count = cap.get(cv2.CAP_PROP_FRAME_COUNT)\n",
    "frame_width = int(cap.get(cv2.CAP_PROP_FRAME_WIDTH))\n",
    "frame_height = int(cap.get(cv2.CAP_PROP_FRAME_HEIGHT))\n",
    "fps = cap.get(cv2.CAP_PROP_FPS)    \n",
    "\n",
    "ret = True\n",
    "\n",
    "print(\"done\")"
   ],
   "metadata": {
    "collapsed": false,
    "pycharm": {
     "name": "#%%\n",
     "is_executing": false
    }
   }
  },
  {
   "cell_type": "code",
   "execution_count": 6,
   "outputs": [],
   "source": [
    "# FUNCTIONS:\n",
    "def _count_deltas(frame_count, buf_bins, bin_number):\n",
    "    global previous_bin_frame_averages\n",
    "    if previous_bin_frame_averages is not None :\n",
    "        bin_ctr = 0\n",
    "        while bin_ctr < bin_number:\n",
    "            frame_ctr = 0\n",
    "            while frame_ctr < frame_count -1:\n",
    "                # getting the average previously calculated\n",
    "                \n",
    "                bin_current_frame_average = previous_bin_frame_averages[bin_ctr]\n",
    "                bin_next_frame_average = np.average(buf_bins[bin_ctr][frame_ctr+1])\n",
    "                \n",
    "                # updating the average for the next set of frames\n",
    "                previous_bin_frame_averages[bin_ctr] = bin_next_frame_average\n",
    "                \n",
    "                current_bin_avgs_delta = bin_next_frame_average - bin_current_frame_average\n",
    "                bin_current_interval = _in_which_interval(bin_current_frame_average, INTERVALS)\n",
    "                bin_current_delta_index = _which_delta(current_bin_avgs_delta, DELTAS)\n",
    "                delta_distribution_per_interval[bin_current_interval][bin_current_delta_index] += 1\n",
    "                \n",
    "                frame_ctr += 1\n",
    "                \n",
    "            bin_ctr+=1\n",
    "    else:\n",
    "        # if does not exist yet, create a new array\n",
    "        previous_bin_frame_averages = np.zeros((bin_number))\n",
    "        \n",
    "        bin_ctr = 0\n",
    "        while bin_ctr < bin_number:\n",
    "            frame_ctr = 0\n",
    "            while frame_ctr < frame_count -1:\n",
    "                bin_current_frame_average = np.average(buf_bins[bin_ctr][frame_ctr])\n",
    "                bin_next_frame_average = np.average(buf_bins[bin_ctr][frame_ctr+1])\n",
    "                previous_bin_frame_averages[bin_ctr] = bin_next_frame_average\n",
    "                current_bin_avgs_delta = bin_next_frame_average - bin_current_frame_average\n",
    "                \n",
    "                bin_current_interval = np.where((INTERVALS <= bin_current_frame_average))[0][-1]# _in_which_interval(bin_current_frame_average, INTERVALS)\n",
    "                bin_current_delta_index = (np.abs(DELTAS - current_bin_avgs_delta)).argmin() #_which_delta(current_bin_avgs_delta, DELTAS)\n",
    "                delta_distribution_per_interval[bin_current_interval][bin_current_delta_index] += 1\n",
    "                \n",
    "                frame_ctr += 1\n",
    "                \n",
    "            bin_ctr+=1\n",
    "       \n",
    "    \n",
    "def _normalizing_deltas():\n",
    "    interval_ctr=0\n",
    "    while interval_ctr < len(INTERVALS)-1:\n",
    "        current_interval_sum = np.sum(delta_distribution_per_interval[interval_ctr]) \n",
    "        delta_distribution_per_interval[interval_ctr] = delta_distribution_per_interval[interval_ctr] / current_interval_sum\n",
    "        interval_ctr += 1"
   ],
   "metadata": {
    "collapsed": false,
    "pycharm": {
     "name": "#%%\n",
     "is_executing": false
    }
   }
  },
  {
   "cell_type": "code",
   "execution_count": 7,
   "outputs": [
    {
     "name": "stdout",
     "text": [
      "2: 0.16 seconds to count deltas\n3: 0.10 seconds to count deltas\n",
      "4: 0.26 seconds to count deltas\n5: 0.12 seconds to count deltas\n",
      "6: 0.19 seconds to count deltas\n7: 0.12 seconds to count deltas\n",
      "8: 0.12 seconds to count deltas\n",
      "9: 0.29 seconds to count deltas\n10: 0.13 seconds to count deltas\n",
      "11: 0.12 seconds to count deltas\n12: 0.19 seconds to count deltas\n",
      "13: 0.23 seconds to count deltas\n",
      "14: 0.26 seconds to count deltas\n15: 0.12 seconds to count deltas\n",
      "16: 0.30 seconds to count deltas\n17: 0.15 seconds to count deltas\n",
      "18: 0.13 seconds to count deltas\n",
      "19: 0.31 seconds to count deltas\n20: 0.10 seconds to count deltas\n",
      "21: 0.11 seconds to count deltas\n",
      "22: 0.26 seconds to count deltas\n23: 0.11 seconds to count deltas\n",
      "24: 0.15 seconds to count deltas\n25: 0.15 seconds to count deltas\n",
      "26: 0.23 seconds to count deltas\n27: 0.13 seconds to count deltas\n",
      "28: 0.30 seconds to count deltas\n",
      "29: 0.23 seconds to count deltas\n30: 0.13 seconds to count deltas\n",
      "31: 0.13 seconds to count deltas\n",
      "32: 0.31 seconds to count deltas\n33: 0.12 seconds to count deltas\n",
      "34: 0.14 seconds to count deltas\n",
      "35: 0.29 seconds to count deltas\n36: 0.16 seconds to count deltas\n",
      "37: 0.11 seconds to count deltas\n",
      "38: 0.29 seconds to count deltas\n39: 0.12 seconds to count deltas\n",
      "40: 0.13 seconds to count deltas\n41: 0.13 seconds to count deltas\n",
      "42: 0.12 seconds to count deltas\n",
      "43: 0.23 seconds to count deltas\n44: 0.13 seconds to count deltas\n",
      "45: 0.17 seconds to count deltas\n46: 0.11 seconds to count deltas\n",
      "47: 0.21 seconds to count deltas\n",
      "48: 0.28 seconds to count deltas\n49: 0.13 seconds to count deltas\n",
      "50: 0.14 seconds to count deltas\n51: 0.12 seconds to count deltas\n",
      "52: 0.12 seconds to count deltas\n53: 0.12 seconds to count deltas\n",
      "54: 0.13 seconds to count deltas\n",
      "55: 0.29 seconds to count deltas\n56: 0.12 seconds to count deltas\n",
      "57: 0.25 seconds to count deltas\n58: 0.11 seconds to count deltas\n",
      "59: 0.29 seconds to count deltas\n",
      "60: 0.28 seconds to count deltas\n61: 0.11 seconds to count deltas\n",
      "62: 0.13 seconds to count deltas\n63: 0.11 seconds to count deltas\n",
      "64: 0.12 seconds to count deltas\n65: 0.15 seconds to count deltas\n",
      "66: 0.14 seconds to count deltas\n",
      "67: 0.25 seconds to count deltas\n68: 0.13 seconds to count deltas\n",
      "69: 0.27 seconds to count deltas\n70: 0.14 seconds to count deltas\n",
      "71: 0.14 seconds to count deltas\n",
      "72: 0.26 seconds to count deltas\n73: 0.13 seconds to count deltas\n",
      "74: 0.31 seconds to count deltas\n75: 0.17 seconds to count deltas\n",
      "76: 0.15 seconds to count deltas\n77: 0.14 seconds to count deltas\n",
      "78: 0.24 seconds to count deltas\n",
      "79: 0.24 seconds to count deltas\n80: 0.12 seconds to count deltas\n",
      "81: 0.16 seconds to count deltas\n82: 0.18 seconds to count deltas\n",
      "83: 0.18 seconds to count deltas\n84: 0.11 seconds to count deltas\n",
      "85: 0.27 seconds to count deltas\n86: 0.11 seconds to count deltas\n",
      "87: 0.20 seconds to count deltas\n88: 0.14 seconds to count deltas\n",
      "89: 0.32 seconds to count deltas\n90: 0.14 seconds to count deltas\n",
      "91: 0.17 seconds to count deltas\n92: 0.13 seconds to count deltas\n",
      "93: 0.12 seconds to count deltas\n94: 0.14 seconds to count deltas\n",
      "95: 0.12 seconds to count deltas\n",
      "96: 0.21 seconds to count deltas\n97: 0.10 seconds to count deltas\n98: 0.09 seconds to count deltas\n",
      "99: 0.19 seconds to count deltas\n",
      "100: 0.19 seconds to count deltas\n101: 0.11 seconds to count deltas\n",
      "102: 0.10 seconds to count deltas\n",
      "103: 0.34 seconds to count deltas\n104: 0.10 seconds to count deltas\n105: 0.10 seconds to count deltas\n",
      "106: 0.15 seconds to count deltas\n",
      "107: 0.27 seconds to count deltas\n108: 0.10 seconds to count deltas\n",
      "109: 0.11 seconds to count deltas\n",
      "110: 0.34 seconds to count deltas\n111: 0.11 seconds to count deltas\n",
      "112: 0.09 seconds to count deltas\n",
      "113: 0.24 seconds to count deltas\n114: 0.11 seconds to count deltas\n",
      "115: 0.10 seconds to count deltas\n",
      "116: 0.20 seconds to count deltas\n117: 0.15 seconds to count deltas\n",
      "118: 0.09 seconds to count deltas\n",
      "119: 0.20 seconds to count deltas\n120: 0.11 seconds to count deltas\n120: 0.34 minutes total\n",
      "done\n"
     ],
     "output_type": "stream"
    }
   ],
   "source": [
    "# delta_distribution_per_interval = np.zeros((len(INTERVALS), len(DELTAS)))\n",
    "total_start = time.time()\n",
    "fc = 0\n",
    "buf = np.zeros((FRAMES_IN_MEMORY, frame_height, frame_width, 3), np.dtype('uint8'))\n",
    "\n",
    "while fc < final_frame_count - CUT_FILE - (FRAMES_IN_MEMORY-1) and ret:\n",
    "    # loading the data according  \n",
    "    in_memory_frames_ctr = 0\n",
    "    while in_memory_frames_ctr < FRAMES_IN_MEMORY:\n",
    "        if np.sum(buf[FRAMES_IN_MEMORY-1]) > 0:\n",
    "            temp = buf[FRAMES_IN_MEMORY-1].copy()\n",
    "            # clearing memory\n",
    "            del buf\n",
    "            \n",
    "            buf = np.zeros((FRAMES_IN_MEMORY, frame_height, frame_width, 3), np.dtype('uint8'))\n",
    "            buf[0] = temp.copy()\n",
    "            del temp\n",
    "        else:\n",
    "            ret, frame = cap.read()\n",
    "            buf[in_memory_frames_ctr] = frame\n",
    "            fc += 1\n",
    "        in_memory_frames_ctr += 1\n",
    "    # fc += 1\n",
    "    # converting the data to a single channel\n",
    "    start = time.time()\n",
    "    single_channel_buf = buf[:,:,:,:1].copy()\n",
    "    # converting the data into bins\n",
    "    ts = ts_main(x_size=BIN_SIZE, y_size=BIN_SIZE, original_file=single_channel_buf, frame_count=FRAMES_IN_MEMORY, single_frame_width=frame_width, single_frame_height=frame_height, channel_amount=1)\n",
    "    del single_channel_buf\n",
    "    buf_in_bins = ts.into_time_series()\n",
    "    number_of_bins = ts.number_of_bins\n",
    "    # counting the deltas\n",
    "    _count_deltas(frame_count=len(buf), buf_bins=buf_in_bins, bin_number=number_of_bins)\n",
    "    del buf_in_bins\n",
    "    end = time.time()\n",
    "    \n",
    "    print(\"{0}: {1:.2f} seconds to count deltas\".format(fc, end-start))\n",
    "    \n",
    "    \n",
    "    \n",
    "cap.release()\n",
    "total_end = time.time()\n",
    "print(\"{0}: {1:.2f} minutes total\".format(fc, (total_end - total_start)/60))\n",
    "os.system('afplay alarm.m4a')\n",
    "print(\"done\")"
   ],
   "metadata": {
    "collapsed": false,
    "pycharm": {
     "name": "#%%\n",
     "is_executing": false
    }
   }
  },
  {
   "cell_type": "code",
   "execution_count": 8,
   "outputs": [
    {
     "name": "stdout",
     "text": [
      "0.0007181167602539062 seconds to normalize deltas\n"
     ],
     "output_type": "stream"
    }
   ],
   "source": [
    "# normalizing deltas\n",
    "start = time.time()\n",
    "_normalizing_deltas()\n",
    "end = time.time()\n",
    "print(\"{0} seconds to normalize deltas\".format(end-start))\n",
    "# os.system('afplay alarm.mp3')"
   ],
   "metadata": {
    "collapsed": false,
    "pycharm": {
     "name": "#%%\n",
     "is_executing": false
    }
   }
  },
  {
   "cell_type": "code",
   "execution_count": null,
   "outputs": [],
   "source": [
    "# np.save(\"{0}__delta_maxmin-{1}__delta_num-{3}__binsize-{2}__interval_num-{4}\".format(file_name, DELTA_MAX_VALUE, BIN_SIZE,DELTA_BINS_NUM, len(INTERVALS)),  delta_distribution_per_interval)"
   ],
   "metadata": {
    "collapsed": false,
    "pycharm": {
     "name": "#%%\n"
    }
   }
  },
  {
   "cell_type": "code",
   "execution_count": null,
   "outputs": [],
   "source": [
    "# delta_distribution_per_interval =  np.load(\"{0}__delta_maxmin-{1}__delta_num-{3}__binsize-{2}__interval_num-{4}.npy\".format(file_name, DELTA_MAX_VALUE, BIN_SIZE,DELTA_BINS_NUM, len(INTERVALS)))"
   ],
   "metadata": {
    "collapsed": false,
    "pycharm": {
     "name": "#%%\n"
    }
   }
  },
  {
   "cell_type": "code",
   "execution_count": 9,
   "outputs": [],
   "source": [
    "\n",
    "def heatmap(data, row_labels, col_labels, ax=None,\n",
    "            cbar_kw={\"shrink\":0.3}, cbarlabel=\"\", **kwargs):\n",
    "    \"\"\"\n",
    "    Create a heatmap from a numpy array and two lists of labels.\n",
    "\n",
    "    Parameters\n",
    "    ----------\n",
    "    data\n",
    "        A 2D numpy array of shape (N, M).\n",
    "    row_labels\n",
    "        A list or array of length N with the labels for the rows.\n",
    "    col_labels\n",
    "        A list or array of length M with the labels for the columns.\n",
    "    ax\n",
    "        A `matplotlib.axes.Axes` instance to which the heatmap is plotted.  If\n",
    "        not provided, use current axes or create a new one.  Optional.\n",
    "    cbar_kw\n",
    "        A dictionary with arguments to `matplotlib.Figure.colorbar`.  Optional.\n",
    "    cbarlabel\n",
    "        The label for the colorbar.  Optional.\n",
    "    **kwargs\n",
    "        All other arguments are forwarded to `imshow`.\n",
    "    \"\"\"\n",
    "\n",
    "    if not ax:\n",
    "        ax = plt.gca()\n",
    "\n",
    "    # Plot the heatmap\n",
    "    im = ax.imshow(data, **kwargs)\n",
    "\n",
    "    # Create colorbar\n",
    "    cbar = ax.figure.colorbar(im, ax=ax, **cbar_kw)\n",
    "    cbar.ax.set_ylabel(cbarlabel, rotation=-90, va=\"bottom\")\n",
    "\n",
    "    # We want to show all ticks...\n",
    "    ax.set_xticks(np.arange(data.shape[1]))\n",
    "    ax.set_yticks(np.arange(data.shape[0]))\n",
    "    # ... and label them with the respective list entries.\n",
    "    ax.set_xticklabels(col_labels, fontsize=LABEL_FONT_SIZE, fontweight='bold')\n",
    "    ax.set_yticklabels(row_labels, fontsize=LABEL_FONT_SIZE, fontweight='bold')\n",
    "\n",
    "    # Let the horizontal axes labeling appear on top.\n",
    "    ax.tick_params(top=False, bottom=True,\n",
    "                   labeltop=False, labelbottom=True)\n",
    "\n",
    "    # Rotate the tick labels and set their alignment.\n",
    "    plt.setp(ax.get_xticklabels(), rotation=-30, ha=\"left\",\n",
    "             rotation_mode=\"anchor\")\n",
    "\n",
    "    # Turn spines off and create white grid.\n",
    "    # for edge, spine in ax.spines.items():\n",
    "    #     spine.set_visible(False)\n",
    "\n",
    "    ax.set_xticks(np.arange(data.shape[1]+1)-.5, minor=True)\n",
    "    ax.set_yticks(np.arange(data.shape[0]+1)-.5, minor=True)\n",
    "    ax.grid(which=\"minor\", color=\"w\", linestyle='-', linewidth=3)\n",
    "    ax.tick_params(which=\"minor\", bottom=False, left=False)\n",
    "\n",
    "    return im, cbar\n",
    "\n",
    "\n",
    "def annotate_heatmap(im, data=None, valfmt=\"{x:.2f}\",\n",
    "                     textcolors=[\"black\", \"white\"],\n",
    "                     threshold=None, **textkw):\n",
    "    \"\"\"\n",
    "    A function to annotate a heatmap.\n",
    "\n",
    "    Parameters\n",
    "    ----------\n",
    "    im\n",
    "        The AxesImage to be labeled.\n",
    "    data\n",
    "        Data used to annotate.  If None, the image's data is used.  Optional.\n",
    "    valfmt\n",
    "        The format of the annotations inside the heatmap.  This should either\n",
    "        use the string format method, e.g. \"$ {x:.2f}\", or be a\n",
    "        `matplotlib.ticker.Formatter`.  Optional.\n",
    "    textcolors\n",
    "        A list or array of two color specifications.  The first is used for\n",
    "        values below a threshold, the second for those above.  Optional.\n",
    "    threshold\n",
    "        Value in data units according to which the colors from textcolors are\n",
    "        applied.  If None (the default) uses the middle of the colormap as\n",
    "        separation.  Optional.\n",
    "    **kwargs\n",
    "        All other arguments are forwarded to each call to `text` used to create\n",
    "        the text labels.\n",
    "    \"\"\"\n",
    "\n",
    "    if not isinstance(data, (list, np.ndarray)):\n",
    "        data = im.get_array()\n",
    "\n",
    "    # Normalize the threshold to the images color range.\n",
    "    if threshold is not None:\n",
    "        threshold = im.norm(threshold)\n",
    "    else:\n",
    "        threshold = im.norm(data.max())/2.\n",
    "\n",
    "    # Set default alignment to center, but allow it to be\n",
    "    # overwritten by textkw.\n",
    "    kw = dict(horizontalalignment=\"center\",\n",
    "              verticalalignment=\"center\")\n",
    "    kw.update(textkw)\n",
    "\n",
    "    # Get the formatter in case a string is supplied\n",
    "    if isinstance(valfmt, str):\n",
    "        valfmt = matplotlib.ticker.StrMethodFormatter(valfmt)\n",
    "\n",
    "    # Loop over the data and create a `Text` for each \"pixel\".\n",
    "    # Change the text's color depending on the data.\n",
    "    texts = []\n",
    "    for i in range(data.shape[0]):\n",
    "        for j in range(data.shape[1]):\n",
    "            kw.update(color=textcolors[int(im.norm((data[i, j])) > threshold)])\n",
    "            text = im.axes.text(j, i,  \"\", **kw) # ORG: \"{0:.4f}\".format(deltas_distribution[i, j]), **kw)\n",
    "            texts.append(text)\n",
    "\n",
    "    return texts"
   ],
   "metadata": {
    "collapsed": false,
    "pycharm": {
     "name": "#%%\n",
     "is_executing": false
    }
   }
  },
  {
   "cell_type": "code",
   "execution_count": 10,
   "outputs": [
    {
     "data": {
      "text/plain": "<Figure size 1296x576 with 2 Axes>",
      "image/png": "[encoded data removed]"
     },
     "metadata": {
      "needs_background": "light"
     },
     "output_type": "display_data"
    }
   ],
   "source": [
    "\n",
    "\n",
    "# delta_distribution_per_interval = np.load(\"{0}__delta_maxmin-{1}__delta_num-{3}__binsize-{2}__interval_num-{4}.npy\".format(file_name, DELTA_MAX_VALUE, BIN_SIZE,DELTA_BINS_NUM, len(INTERVALS)))[:-1]\n",
    "\n",
    "intervals_list = [\"{0} >\".format(inter) for inter in INTERVALS]\n",
    "deltas_list = DELTAS\n",
    "data = delta_distribution_per_interval[:]\n",
    "deltas_distribution = np.array(np.around(data, 6))\n",
    "\n",
    "fig, ax = plt.subplots(figsize=(2^16, 2^10))\n",
    "plt.title(\"EXP:{0}\\nDelta distribution in Intervals\\n Max Color data value = {1}\".format(file_name, MAX_COLOR), fontsize=40)\n",
    "im, cbar = heatmap(deltas_distribution, intervals_list, np.around(deltas_list, 1), ax=ax,\n",
    "                   cmap=\"YlGnBu\", cbarlabel=\"Delta Distribution/ Gray Value Interval\",vmax=MAX_COLOR)\n",
    "# setting the x labels\n",
    "# plt.rc('xtick', labelsize=FONT_SIZE)    # fontsize of the tick labels\n",
    "every_x_nth = EVERY_X_LABEL_TO_PRINT\n",
    "for n, label in enumerate(ax.xaxis.get_ticklabels()):\n",
    "    if n % every_x_nth != 0:\n",
    "        label.set_visible(False)\n",
    "        \n",
    "\n",
    "for n, line in enumerate(ax.xaxis.get_ticklines()):\n",
    "    if n % every_x_nth != 0:\n",
    "        line.set_visible(False)\n",
    "# setting the y labels \n",
    "# plt.rc('ytick', labelsize=FONT_SIZE)   \n",
    "every_y_nth = EVERY_Y_LABEL_TO_PRINT\n",
    "for n, label in enumerate(ax.yaxis.get_ticklabels()):\n",
    "    if n % every_y_nth != 0:\n",
    "        label.set_visible(False)\n",
    "\n",
    "for n, line in enumerate(ax.yaxis.get_ticklines()):\n",
    "    if n % every_y_nth != 0:\n",
    "        line.set_visible(False)\n",
    "# ANNOTATE\n",
    "texts = annotate_heatmap(im, valfmt=\"{x:.3f}\",\n",
    "                       ha=\"center\", va=\"center\", fontsize=2)\n",
    "\n",
    "ax.tick_params(direction='out', pad=LABEL_OUT_OF_AXIS_PARAM)\n",
    "plt.tight_layout()\n",
    "plt.show()"
   ],
   "metadata": {
    "collapsed": false,
    "pycharm": {
     "name": "#%%\n",
     "is_executing": false
    }
   }
  },
  {
   "cell_type": "code",
   "execution_count": 11,
   "outputs": [],
   "source": [
    "fig.savefig('{0}-heatmapMaxColor{1}__DeltaSpan{2}>>{3}.png'.format(file_name, MAX_COLOR,int(np.min(DELTAS)),int(np.max(DELTAS))), dpi=100)\n",
    "# print(time.time())"
   ],
   "metadata": {
    "collapsed": false,
    "pycharm": {
     "name": "#%%\n",
     "is_executing": false
    }
   }
  },
  {
   "cell_type": "code",
   "execution_count": null,
   "outputs": [],
   "source": [
    "# todo1 : higher resolution for pixel and higher bin number for delta. DONE\n",
    "# todo2 : raise color bar to 0.2 value as max or lower. DONE \n",
    "# todo3 : find the video by Melanie's description. \n",
    "# todo4 : ask Assaf Nahum from the lab about the pipeline he improved the runtime for."
   ],
   "metadata": {
    "collapsed": false,
    "pycharm": {
     "name": "#%%\n",
     "is_executing": false
    }
   }
  }
 ],
 "metadata": {
  "kernelspec": {
   "display_name": "Python 3",
   "language": "python",
   "name": "python3"
  },
  "language_info": {
   "codemirror_mode": {
    "name": "ipython",
    "version": 2
   },
   "file_extension": ".py",
   "mimetype": "text/x-python",
   "name": "python",
   "nbconvert_exporter": "python",
   "pygments_lexer": "ipython2",
   "version": "2.7.6"
  },
  "pycharm": {
   "stem_cell": {
    "cell_type": "raw",
    "source": [],
    "metadata": {
     "collapsed": false
    }
   }
  }
 },
 "nbformat": 4,
 "nbformat_minor": 0
}